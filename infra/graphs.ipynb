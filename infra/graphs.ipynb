{
 "cells": [
  {
   "cell_type": "markdown",
   "metadata": {},
   "source": [
    "https://nightly.cs.washington.edu/reports/eggcc/1732198012:nightly:main:f0c4762a1d/data/profile.json"
   ]
  },
  {
   "cell_type": "code",
   "execution_count": 24,
   "metadata": {},
   "outputs": [],
   "source": [
    "import json\n",
    "import pandas as pd\n",
    "import matplotlib\n",
    "import matplotlib.pyplot as plt\n",
    "import generate_test_case_line_counts"
   ]
  },
  {
   "cell_type": "code",
   "execution_count": 85,
   "metadata": {},
   "outputs": [],
   "source": [
    "matplotlib.rcParams[\"text.usetex\"] = True\n",
    "matplotlib.rcParams[\"font.family\"] = \"STIXGeneral\"\n",
    "plt.rcParams[\"font.size\"] = 20\n",
    "\n",
    "transparency = 0.2\n",
    "size = 100"
   ]
  },
  {
   "cell_type": "code",
   "execution_count": 86,
   "metadata": {},
   "outputs": [],
   "source": [
    "data = pd.DataFrame(json.load(open(\"profile.json\")))"
   ]
  },
  {
   "cell_type": "code",
   "execution_count": 87,
   "metadata": {},
   "outputs": [],
   "source": [
    "line_counts = generate_test_case_line_counts.main(\"../benchmarks/passing/\")"
   ]
  },
  {
   "cell_type": "code",
   "execution_count": 88,
   "metadata": {},
   "outputs": [],
   "source": [
    "data[\"line_count\"] = data.apply(lambda row: line_counts[row.benchmark], axis=1)"
   ]
  },
  {
   "cell_type": "code",
   "execution_count": 89,
   "metadata": {},
   "outputs": [
    {
     "data": {
      "text/html": [
       "<div>\n",
       "<style scoped>\n",
       "    .dataframe tbody tr th:only-of-type {\n",
       "        vertical-align: middle;\n",
       "    }\n",
       "\n",
       "    .dataframe tbody tr th {\n",
       "        vertical-align: top;\n",
       "    }\n",
       "\n",
       "    .dataframe thead th {\n",
       "        text-align: right;\n",
       "    }\n",
       "</style>\n",
       "<table border=\"1\" class=\"dataframe\">\n",
       "  <thead>\n",
       "    <tr style=\"text-align: right;\">\n",
       "      <th></th>\n",
       "      <th>runMethod</th>\n",
       "      <th>benchmark</th>\n",
       "      <th>cycles</th>\n",
       "      <th>metadata</th>\n",
       "      <th>eggccCompileTimeSecs</th>\n",
       "      <th>llvmCompileTimeSecs</th>\n",
       "      <th>line_count</th>\n",
       "    </tr>\n",
       "  </thead>\n",
       "  <tbody>\n",
       "    <tr>\n",
       "      <th>531</th>\n",
       "      <td>llvm-O0-O0</td>\n",
       "      <td>raytrace</td>\n",
       "      <td>[68891102, 69920020, 67226070, 68894476, 67490...</td>\n",
       "      <td>{'looped': False, 'path': 'benchmarks/passing/...</td>\n",
       "      <td>0.018997</td>\n",
       "      <td>0.740442</td>\n",
       "      <td>2506</td>\n",
       "    </tr>\n",
       "    <tr>\n",
       "      <th>532</th>\n",
       "      <td>llvm-O1-O0</td>\n",
       "      <td>raytrace</td>\n",
       "      <td>[193923210, 60839110, 56383226, 56171536, 5792...</td>\n",
       "      <td>{'looped': False, 'path': 'benchmarks/passing/...</td>\n",
       "      <td>0.021151</td>\n",
       "      <td>1.110717</td>\n",
       "      <td>2506</td>\n",
       "    </tr>\n",
       "    <tr>\n",
       "      <th>533</th>\n",
       "      <td>llvm-O2-O0</td>\n",
       "      <td>raytrace</td>\n",
       "      <td>[55715690, 55436910, 55216058, 55532696, 54526...</td>\n",
       "      <td>{'looped': False, 'path': 'benchmarks/passing/...</td>\n",
       "      <td>0.019356</td>\n",
       "      <td>1.176540</td>\n",
       "      <td>2506</td>\n",
       "    </tr>\n",
       "    <tr>\n",
       "      <th>534</th>\n",
       "      <td>llvm-O3-O0</td>\n",
       "      <td>raytrace</td>\n",
       "      <td>[55465002, 56238628, 55012004, 55270948, 54946...</td>\n",
       "      <td>{'looped': False, 'path': 'benchmarks/passing/...</td>\n",
       "      <td>0.020348</td>\n",
       "      <td>1.362219</td>\n",
       "      <td>2506</td>\n",
       "    </tr>\n",
       "    <tr>\n",
       "      <th>535</th>\n",
       "      <td>llvm-O3-O3</td>\n",
       "      <td>raytrace</td>\n",
       "      <td>[52263320, 52187136, 53716602, 52615012, 52344...</td>\n",
       "      <td>{'looped': False, 'path': 'benchmarks/passing/...</td>\n",
       "      <td>0.020688</td>\n",
       "      <td>2.215354</td>\n",
       "      <td>2506</td>\n",
       "    </tr>\n",
       "    <tr>\n",
       "      <th>536</th>\n",
       "      <td>llvm-eggcc-O0-O0</td>\n",
       "      <td>raytrace</td>\n",
       "      <td>[68311792, 67484156, 67607238, 68273752, 67693...</td>\n",
       "      <td>{'looped': False, 'path': 'benchmarks/passing/...</td>\n",
       "      <td>265.542266</td>\n",
       "      <td>0.551952</td>\n",
       "      <td>2506</td>\n",
       "    </tr>\n",
       "    <tr>\n",
       "      <th>537</th>\n",
       "      <td>llvm-eggcc-O3-O0</td>\n",
       "      <td>raytrace</td>\n",
       "      <td>[63353790, 57205184, 56021018, 57646504, 59172...</td>\n",
       "      <td>{'looped': False, 'path': 'benchmarks/passing/...</td>\n",
       "      <td>266.265700</td>\n",
       "      <td>0.871962</td>\n",
       "      <td>2506</td>\n",
       "    </tr>\n",
       "    <tr>\n",
       "      <th>538</th>\n",
       "      <td>llvm-eggcc-sequential-O0-O0</td>\n",
       "      <td>raytrace</td>\n",
       "      <td>[63397776, 63581340, 62977226, 63502844, 63307...</td>\n",
       "      <td>{'looped': False, 'path': 'benchmarks/passing/...</td>\n",
       "      <td>1231.744178</td>\n",
       "      <td>0.517204</td>\n",
       "      <td>2506</td>\n",
       "    </tr>\n",
       "    <tr>\n",
       "      <th>539</th>\n",
       "      <td>rvsdg-round-trip-to-executable</td>\n",
       "      <td>raytrace</td>\n",
       "      <td>[202538664, 78708132, 74920018, 69657904, 6998...</td>\n",
       "      <td>{'looped': False, 'path': 'benchmarks/passing/...</td>\n",
       "      <td>0.092199</td>\n",
       "      <td>0.806951</td>\n",
       "      <td>2506</td>\n",
       "    </tr>\n",
       "  </tbody>\n",
       "</table>\n",
       "</div>"
      ],
      "text/plain": [
       "                          runMethod benchmark  \\\n",
       "531                      llvm-O0-O0  raytrace   \n",
       "532                      llvm-O1-O0  raytrace   \n",
       "533                      llvm-O2-O0  raytrace   \n",
       "534                      llvm-O3-O0  raytrace   \n",
       "535                      llvm-O3-O3  raytrace   \n",
       "536                llvm-eggcc-O0-O0  raytrace   \n",
       "537                llvm-eggcc-O3-O0  raytrace   \n",
       "538     llvm-eggcc-sequential-O0-O0  raytrace   \n",
       "539  rvsdg-round-trip-to-executable  raytrace   \n",
       "\n",
       "                                                cycles  \\\n",
       "531  [68891102, 69920020, 67226070, 68894476, 67490...   \n",
       "532  [193923210, 60839110, 56383226, 56171536, 5792...   \n",
       "533  [55715690, 55436910, 55216058, 55532696, 54526...   \n",
       "534  [55465002, 56238628, 55012004, 55270948, 54946...   \n",
       "535  [52263320, 52187136, 53716602, 52615012, 52344...   \n",
       "536  [68311792, 67484156, 67607238, 68273752, 67693...   \n",
       "537  [63353790, 57205184, 56021018, 57646504, 59172...   \n",
       "538  [63397776, 63581340, 62977226, 63502844, 63307...   \n",
       "539  [202538664, 78708132, 74920018, 69657904, 6998...   \n",
       "\n",
       "                                              metadata  eggccCompileTimeSecs  \\\n",
       "531  {'looped': False, 'path': 'benchmarks/passing/...              0.018997   \n",
       "532  {'looped': False, 'path': 'benchmarks/passing/...              0.021151   \n",
       "533  {'looped': False, 'path': 'benchmarks/passing/...              0.019356   \n",
       "534  {'looped': False, 'path': 'benchmarks/passing/...              0.020348   \n",
       "535  {'looped': False, 'path': 'benchmarks/passing/...              0.020688   \n",
       "536  {'looped': False, 'path': 'benchmarks/passing/...            265.542266   \n",
       "537  {'looped': False, 'path': 'benchmarks/passing/...            266.265700   \n",
       "538  {'looped': False, 'path': 'benchmarks/passing/...           1231.744178   \n",
       "539  {'looped': False, 'path': 'benchmarks/passing/...              0.092199   \n",
       "\n",
       "     llvmCompileTimeSecs  line_count  \n",
       "531             0.740442        2506  \n",
       "532             1.110717        2506  \n",
       "533             1.176540        2506  \n",
       "534             1.362219        2506  \n",
       "535             2.215354        2506  \n",
       "536             0.551952        2506  \n",
       "537             0.871962        2506  \n",
       "538             0.517204        2506  \n",
       "539             0.806951        2506  "
      ]
     },
     "execution_count": 89,
     "metadata": {},
     "output_type": "execute_result"
    }
   ],
   "source": [
    "data[data[\"line_count\"] >= 1000]"
   ]
  },
  {
   "cell_type": "code",
   "execution_count": 90,
   "metadata": {},
   "outputs": [],
   "source": [
    "runMethod = \"llvm-eggcc-O3-O0\"\n",
    "data = data[data[\"runMethod\"] == runMethod]"
   ]
  },
  {
   "cell_type": "code",
   "execution_count": 94,
   "metadata": {},
   "outputs": [
    {
     "data": {
      "text/plain": [
       "<matplotlib.collections.PathCollection at 0x11fcb90d0>"
      ]
     },
     "execution_count": 94,
     "metadata": {},
     "output_type": "execute_result"
    },
    {
     "data": {
      "image/png": "[encoded data removed]",
      "text/plain": [
       "<Figure size 640x480 with 1 Axes>"
      ]
     },
     "metadata": {},
     "output_type": "display_data"
    }
   ],
   "source": [
    "# remove outlier\n",
    "data = data[data[\"line_count\"] < 1000]\n",
    "\n",
    "plt.xlabel(\"program length (number of lines)\")\n",
    "plt.ylabel(\"compile time (seconds)\")\n",
    "\n",
    "# passing\n",
    "plt.scatter(\n",
    "    data[\"line_count\"],\n",
    "    data[\"eggccCompileTimeSecs\"],\n",
    "    c=\"blue\",\n",
    "    s=size,\n",
    "    alpha=transparency,\n",
    ")\n",
    "\n",
    "# plt.xlim(0, 350)\n",
    "# plt.ylim(0, 140)\n"
   ]
  },
  {
   "cell_type": "code",
   "execution_count": null,
   "metadata": {},
   "outputs": [],
   "source": []
  }
 ],
 "metadata": {
  "kernelspec": {
   "display_name": "Python 3",
   "language": "python",
   "name": "python3"
  },
  "language_info": {
   "codemirror_mode": {
    "name": "ipython",
    "version": 3
   },
   "file_extension": ".py",
   "mimetype": "text/x-python",
   "name": "python",
   "nbconvert_exporter": "python",
   "pygments_lexer": "ipython3",
   "version": "3.11.10"
  }
 },
 "nbformat": 4,
 "nbformat_minor": 2
}
